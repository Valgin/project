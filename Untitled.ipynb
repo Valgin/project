{
 "cells": [
  {
   "cell_type": "markdown",
   "metadata": {},
   "source": [
    "#  1. Первичный анализ данных"
   ]
  },
  {
   "cell_type": "code",
   "execution_count": 2,
   "metadata": {},
   "outputs": [],
   "source": [
    "import pandas as pd\n",
    "import seaborn as sns\n",
    "import matplotlib.pyplot as plt\n",
    "from matplotlib import pyplot\n",
    "import seaborn\n",
    "import numpy as np\n",
    "\n",
    "%matplotlib inline"
   ]
  },
  {
   "cell_type": "code",
   "execution_count": 3,
   "metadata": {},
   "outputs": [],
   "source": [
    "data = pd.read_csv(\"data/DSL-StrongPasswordData .csv\")"
   ]
  },
  {
   "cell_type": "code",
   "execution_count": 4,
   "metadata": {},
   "outputs": [
    {
     "data": {
      "text/html": [
       "<div>\n",
       "<style scoped>\n",
       "    .dataframe tbody tr th:only-of-type {\n",
       "        vertical-align: middle;\n",
       "    }\n",
       "\n",
       "    .dataframe tbody tr th {\n",
       "        vertical-align: top;\n",
       "    }\n",
       "\n",
       "    .dataframe thead th {\n",
       "        text-align: right;\n",
       "    }\n",
       "</style>\n",
       "<table border=\"1\" class=\"dataframe\">\n",
       "  <thead>\n",
       "    <tr style=\"text-align: right;\">\n",
       "      <th></th>\n",
       "      <th>subject</th>\n",
       "      <th>sessionIndex</th>\n",
       "      <th>rep</th>\n",
       "      <th>H.period</th>\n",
       "      <th>DD.period.t</th>\n",
       "      <th>UD.period.t</th>\n",
       "      <th>H.t</th>\n",
       "      <th>DD.t.i</th>\n",
       "      <th>UD.t.i</th>\n",
       "      <th>H.i</th>\n",
       "      <th>...</th>\n",
       "      <th>H.a</th>\n",
       "      <th>DD.a.n</th>\n",
       "      <th>UD.a.n</th>\n",
       "      <th>H.n</th>\n",
       "      <th>DD.n.l</th>\n",
       "      <th>UD.n.l</th>\n",
       "      <th>H.l</th>\n",
       "      <th>DD.l.Return</th>\n",
       "      <th>UD.l.Return</th>\n",
       "      <th>H.Return</th>\n",
       "    </tr>\n",
       "  </thead>\n",
       "  <tbody>\n",
       "    <tr>\n",
       "      <th>0</th>\n",
       "      <td>s002</td>\n",
       "      <td>1</td>\n",
       "      <td>1</td>\n",
       "      <td>0.1491</td>\n",
       "      <td>0.3979</td>\n",
       "      <td>0.2488</td>\n",
       "      <td>0.1069</td>\n",
       "      <td>0.1674</td>\n",
       "      <td>0.0605</td>\n",
       "      <td>0.1169</td>\n",
       "      <td>...</td>\n",
       "      <td>0.1349</td>\n",
       "      <td>0.1484</td>\n",
       "      <td>0.0135</td>\n",
       "      <td>0.0932</td>\n",
       "      <td>0.3515</td>\n",
       "      <td>0.2583</td>\n",
       "      <td>0.1338</td>\n",
       "      <td>0.3509</td>\n",
       "      <td>0.2171</td>\n",
       "      <td>0.0742</td>\n",
       "    </tr>\n",
       "    <tr>\n",
       "      <th>1</th>\n",
       "      <td>s002</td>\n",
       "      <td>1</td>\n",
       "      <td>2</td>\n",
       "      <td>0.1111</td>\n",
       "      <td>0.3451</td>\n",
       "      <td>0.2340</td>\n",
       "      <td>0.0694</td>\n",
       "      <td>0.1283</td>\n",
       "      <td>0.0589</td>\n",
       "      <td>0.0908</td>\n",
       "      <td>...</td>\n",
       "      <td>0.1412</td>\n",
       "      <td>0.2558</td>\n",
       "      <td>0.1146</td>\n",
       "      <td>0.1146</td>\n",
       "      <td>0.2642</td>\n",
       "      <td>0.1496</td>\n",
       "      <td>0.0839</td>\n",
       "      <td>0.2756</td>\n",
       "      <td>0.1917</td>\n",
       "      <td>0.0747</td>\n",
       "    </tr>\n",
       "    <tr>\n",
       "      <th>2</th>\n",
       "      <td>s002</td>\n",
       "      <td>1</td>\n",
       "      <td>3</td>\n",
       "      <td>0.1328</td>\n",
       "      <td>0.2072</td>\n",
       "      <td>0.0744</td>\n",
       "      <td>0.0731</td>\n",
       "      <td>0.1291</td>\n",
       "      <td>0.0560</td>\n",
       "      <td>0.0821</td>\n",
       "      <td>...</td>\n",
       "      <td>0.1621</td>\n",
       "      <td>0.2332</td>\n",
       "      <td>0.0711</td>\n",
       "      <td>0.1172</td>\n",
       "      <td>0.2705</td>\n",
       "      <td>0.1533</td>\n",
       "      <td>0.1085</td>\n",
       "      <td>0.2847</td>\n",
       "      <td>0.1762</td>\n",
       "      <td>0.0945</td>\n",
       "    </tr>\n",
       "    <tr>\n",
       "      <th>3</th>\n",
       "      <td>s002</td>\n",
       "      <td>1</td>\n",
       "      <td>4</td>\n",
       "      <td>0.1291</td>\n",
       "      <td>0.2515</td>\n",
       "      <td>0.1224</td>\n",
       "      <td>0.1059</td>\n",
       "      <td>0.2495</td>\n",
       "      <td>0.1436</td>\n",
       "      <td>0.1040</td>\n",
       "      <td>...</td>\n",
       "      <td>0.1457</td>\n",
       "      <td>0.1629</td>\n",
       "      <td>0.0172</td>\n",
       "      <td>0.0866</td>\n",
       "      <td>0.2341</td>\n",
       "      <td>0.1475</td>\n",
       "      <td>0.0845</td>\n",
       "      <td>0.3232</td>\n",
       "      <td>0.2387</td>\n",
       "      <td>0.0813</td>\n",
       "    </tr>\n",
       "    <tr>\n",
       "      <th>4</th>\n",
       "      <td>s002</td>\n",
       "      <td>1</td>\n",
       "      <td>5</td>\n",
       "      <td>0.1249</td>\n",
       "      <td>0.2317</td>\n",
       "      <td>0.1068</td>\n",
       "      <td>0.0895</td>\n",
       "      <td>0.1676</td>\n",
       "      <td>0.0781</td>\n",
       "      <td>0.0903</td>\n",
       "      <td>...</td>\n",
       "      <td>0.1312</td>\n",
       "      <td>0.1582</td>\n",
       "      <td>0.0270</td>\n",
       "      <td>0.0884</td>\n",
       "      <td>0.2517</td>\n",
       "      <td>0.1633</td>\n",
       "      <td>0.0903</td>\n",
       "      <td>0.2517</td>\n",
       "      <td>0.1614</td>\n",
       "      <td>0.0818</td>\n",
       "    </tr>\n",
       "  </tbody>\n",
       "</table>\n",
       "<p>5 rows × 34 columns</p>\n",
       "</div>"
      ],
      "text/plain": [
       "  subject  sessionIndex  rep  H.period  DD.period.t  UD.period.t     H.t  \\\n",
       "0    s002             1    1    0.1491       0.3979       0.2488  0.1069   \n",
       "1    s002             1    2    0.1111       0.3451       0.2340  0.0694   \n",
       "2    s002             1    3    0.1328       0.2072       0.0744  0.0731   \n",
       "3    s002             1    4    0.1291       0.2515       0.1224  0.1059   \n",
       "4    s002             1    5    0.1249       0.2317       0.1068  0.0895   \n",
       "\n",
       "   DD.t.i  UD.t.i     H.i  ...     H.a  DD.a.n  UD.a.n     H.n  DD.n.l  \\\n",
       "0  0.1674  0.0605  0.1169  ...  0.1349  0.1484  0.0135  0.0932  0.3515   \n",
       "1  0.1283  0.0589  0.0908  ...  0.1412  0.2558  0.1146  0.1146  0.2642   \n",
       "2  0.1291  0.0560  0.0821  ...  0.1621  0.2332  0.0711  0.1172  0.2705   \n",
       "3  0.2495  0.1436  0.1040  ...  0.1457  0.1629  0.0172  0.0866  0.2341   \n",
       "4  0.1676  0.0781  0.0903  ...  0.1312  0.1582  0.0270  0.0884  0.2517   \n",
       "\n",
       "   UD.n.l     H.l  DD.l.Return  UD.l.Return  H.Return  \n",
       "0  0.2583  0.1338       0.3509       0.2171    0.0742  \n",
       "1  0.1496  0.0839       0.2756       0.1917    0.0747  \n",
       "2  0.1533  0.1085       0.2847       0.1762    0.0945  \n",
       "3  0.1475  0.0845       0.3232       0.2387    0.0813  \n",
       "4  0.1633  0.0903       0.2517       0.1614    0.0818  \n",
       "\n",
       "[5 rows x 34 columns]"
      ]
     },
     "execution_count": 4,
     "metadata": {},
     "output_type": "execute_result"
    }
   ],
   "source": [
    "data.head()"
   ]
  },
  {
   "cell_type": "code",
   "execution_count": 5,
   "metadata": {},
   "outputs": [
    {
     "data": {
      "text/plain": [
       "(20400, 34)"
      ]
     },
     "execution_count": 5,
     "metadata": {},
     "output_type": "execute_result"
    }
   ],
   "source": [
    "data.shape"
   ]
  },
  {
   "cell_type": "code",
   "execution_count": 6,
   "metadata": {},
   "outputs": [
    {
     "name": "stdout",
     "output_type": "stream",
     "text": [
      "<class 'pandas.core.frame.DataFrame'>\n",
      "RangeIndex: 20400 entries, 0 to 20399\n",
      "Data columns (total 34 columns):\n",
      " #   Column           Non-Null Count  Dtype  \n",
      "---  ------           --------------  -----  \n",
      " 0   subject          20400 non-null  object \n",
      " 1   sessionIndex     20400 non-null  int64  \n",
      " 2   rep              20400 non-null  int64  \n",
      " 3   H.period         20400 non-null  float64\n",
      " 4   DD.period.t      20400 non-null  float64\n",
      " 5   UD.period.t      20400 non-null  float64\n",
      " 6   H.t              20400 non-null  float64\n",
      " 7   DD.t.i           20400 non-null  float64\n",
      " 8   UD.t.i           20400 non-null  float64\n",
      " 9   H.i              20400 non-null  float64\n",
      " 10  DD.i.e           20400 non-null  float64\n",
      " 11  UD.i.e           20400 non-null  float64\n",
      " 12  H.e              20400 non-null  float64\n",
      " 13  DD.e.five        20400 non-null  float64\n",
      " 14  UD.e.five        20400 non-null  float64\n",
      " 15  H.five           20400 non-null  float64\n",
      " 16  DD.five.Shift.r  20400 non-null  float64\n",
      " 17  UD.five.Shift.r  20400 non-null  float64\n",
      " 18  H.Shift.r        20400 non-null  float64\n",
      " 19  DD.Shift.r.o     20400 non-null  float64\n",
      " 20  UD.Shift.r.o     20400 non-null  float64\n",
      " 21  H.o              20400 non-null  float64\n",
      " 22  DD.o.a           20400 non-null  float64\n",
      " 23  UD.o.a           20400 non-null  float64\n",
      " 24  H.a              20400 non-null  float64\n",
      " 25  DD.a.n           20400 non-null  float64\n",
      " 26  UD.a.n           20400 non-null  float64\n",
      " 27  H.n              20400 non-null  float64\n",
      " 28  DD.n.l           20400 non-null  float64\n",
      " 29  UD.n.l           20400 non-null  float64\n",
      " 30  H.l              20400 non-null  float64\n",
      " 31  DD.l.Return      20400 non-null  float64\n",
      " 32  UD.l.Return      20400 non-null  float64\n",
      " 33  H.Return         20400 non-null  float64\n",
      "dtypes: float64(31), int64(2), object(1)\n",
      "memory usage: 5.3+ MB\n"
     ]
    }
   ],
   "source": [
    "\n",
    "data.info()"
   ]
  },
  {
   "cell_type": "code",
   "execution_count": 7,
   "metadata": {},
   "outputs": [
    {
     "data": {
      "text/html": [
       "<div>\n",
       "<style scoped>\n",
       "    .dataframe tbody tr th:only-of-type {\n",
       "        vertical-align: middle;\n",
       "    }\n",
       "\n",
       "    .dataframe tbody tr th {\n",
       "        vertical-align: top;\n",
       "    }\n",
       "\n",
       "    .dataframe thead th {\n",
       "        text-align: right;\n",
       "    }\n",
       "</style>\n",
       "<table border=\"1\" class=\"dataframe\">\n",
       "  <thead>\n",
       "    <tr style=\"text-align: right;\">\n",
       "      <th></th>\n",
       "      <th>sessionIndex</th>\n",
       "      <th>rep</th>\n",
       "      <th>H.period</th>\n",
       "      <th>DD.period.t</th>\n",
       "      <th>UD.period.t</th>\n",
       "      <th>H.t</th>\n",
       "      <th>DD.t.i</th>\n",
       "      <th>UD.t.i</th>\n",
       "      <th>H.i</th>\n",
       "      <th>DD.i.e</th>\n",
       "      <th>...</th>\n",
       "      <th>H.a</th>\n",
       "      <th>DD.a.n</th>\n",
       "      <th>UD.a.n</th>\n",
       "      <th>H.n</th>\n",
       "      <th>DD.n.l</th>\n",
       "      <th>UD.n.l</th>\n",
       "      <th>H.l</th>\n",
       "      <th>DD.l.Return</th>\n",
       "      <th>UD.l.Return</th>\n",
       "      <th>H.Return</th>\n",
       "    </tr>\n",
       "  </thead>\n",
       "  <tbody>\n",
       "    <tr>\n",
       "      <th>count</th>\n",
       "      <td>20400.000000</td>\n",
       "      <td>20400.000000</td>\n",
       "      <td>20400.000000</td>\n",
       "      <td>20400.000000</td>\n",
       "      <td>20400.000000</td>\n",
       "      <td>20400.000000</td>\n",
       "      <td>20400.000000</td>\n",
       "      <td>20400.000000</td>\n",
       "      <td>20400.000000</td>\n",
       "      <td>20400.000000</td>\n",
       "      <td>...</td>\n",
       "      <td>20400.000000</td>\n",
       "      <td>20400.000000</td>\n",
       "      <td>20400.000000</td>\n",
       "      <td>20400.000000</td>\n",
       "      <td>20400.000000</td>\n",
       "      <td>20400.000000</td>\n",
       "      <td>20400.000000</td>\n",
       "      <td>20400.000000</td>\n",
       "      <td>20400.000000</td>\n",
       "      <td>20400.000000</td>\n",
       "    </tr>\n",
       "    <tr>\n",
       "      <th>mean</th>\n",
       "      <td>4.500000</td>\n",
       "      <td>25.500000</td>\n",
       "      <td>0.093379</td>\n",
       "      <td>0.264148</td>\n",
       "      <td>0.170769</td>\n",
       "      <td>0.085727</td>\n",
       "      <td>0.169085</td>\n",
       "      <td>0.083358</td>\n",
       "      <td>0.081565</td>\n",
       "      <td>0.159372</td>\n",
       "      <td>...</td>\n",
       "      <td>0.106259</td>\n",
       "      <td>0.150670</td>\n",
       "      <td>0.044411</td>\n",
       "      <td>0.089899</td>\n",
       "      <td>0.202630</td>\n",
       "      <td>0.112731</td>\n",
       "      <td>0.095589</td>\n",
       "      <td>0.321847</td>\n",
       "      <td>0.226259</td>\n",
       "      <td>0.088306</td>\n",
       "    </tr>\n",
       "    <tr>\n",
       "      <th>std</th>\n",
       "      <td>2.291344</td>\n",
       "      <td>14.431223</td>\n",
       "      <td>0.029626</td>\n",
       "      <td>0.220534</td>\n",
       "      <td>0.226836</td>\n",
       "      <td>0.027424</td>\n",
       "      <td>0.123546</td>\n",
       "      <td>0.125755</td>\n",
       "      <td>0.026887</td>\n",
       "      <td>0.226928</td>\n",
       "      <td>...</td>\n",
       "      <td>0.038828</td>\n",
       "      <td>0.107422</td>\n",
       "      <td>0.105197</td>\n",
       "      <td>0.030738</td>\n",
       "      <td>0.150191</td>\n",
       "      <td>0.159571</td>\n",
       "      <td>0.028348</td>\n",
       "      <td>0.225389</td>\n",
       "      <td>0.230759</td>\n",
       "      <td>0.027452</td>\n",
       "    </tr>\n",
       "    <tr>\n",
       "      <th>min</th>\n",
       "      <td>1.000000</td>\n",
       "      <td>1.000000</td>\n",
       "      <td>0.001400</td>\n",
       "      <td>0.018700</td>\n",
       "      <td>-0.235800</td>\n",
       "      <td>0.009300</td>\n",
       "      <td>0.001100</td>\n",
       "      <td>-0.162100</td>\n",
       "      <td>0.003200</td>\n",
       "      <td>0.001400</td>\n",
       "      <td>...</td>\n",
       "      <td>0.004000</td>\n",
       "      <td>0.001100</td>\n",
       "      <td>-0.235500</td>\n",
       "      <td>0.003700</td>\n",
       "      <td>0.001300</td>\n",
       "      <td>-0.175800</td>\n",
       "      <td>0.003700</td>\n",
       "      <td>0.008300</td>\n",
       "      <td>-0.124500</td>\n",
       "      <td>0.002900</td>\n",
       "    </tr>\n",
       "    <tr>\n",
       "      <th>25%</th>\n",
       "      <td>2.750000</td>\n",
       "      <td>13.000000</td>\n",
       "      <td>0.074400</td>\n",
       "      <td>0.146900</td>\n",
       "      <td>0.049800</td>\n",
       "      <td>0.066000</td>\n",
       "      <td>0.113600</td>\n",
       "      <td>0.027200</td>\n",
       "      <td>0.062000</td>\n",
       "      <td>0.089300</td>\n",
       "      <td>...</td>\n",
       "      <td>0.082100</td>\n",
       "      <td>0.096100</td>\n",
       "      <td>-0.009000</td>\n",
       "      <td>0.067300</td>\n",
       "      <td>0.127600</td>\n",
       "      <td>0.023500</td>\n",
       "      <td>0.077400</td>\n",
       "      <td>0.210000</td>\n",
       "      <td>0.114100</td>\n",
       "      <td>0.069900</td>\n",
       "    </tr>\n",
       "    <tr>\n",
       "      <th>50%</th>\n",
       "      <td>4.500000</td>\n",
       "      <td>25.500000</td>\n",
       "      <td>0.089500</td>\n",
       "      <td>0.205950</td>\n",
       "      <td>0.108700</td>\n",
       "      <td>0.081000</td>\n",
       "      <td>0.140400</td>\n",
       "      <td>0.057800</td>\n",
       "      <td>0.077100</td>\n",
       "      <td>0.120900</td>\n",
       "      <td>...</td>\n",
       "      <td>0.101900</td>\n",
       "      <td>0.125000</td>\n",
       "      <td>0.022700</td>\n",
       "      <td>0.085300</td>\n",
       "      <td>0.172500</td>\n",
       "      <td>0.095500</td>\n",
       "      <td>0.093700</td>\n",
       "      <td>0.263000</td>\n",
       "      <td>0.160300</td>\n",
       "      <td>0.085500</td>\n",
       "    </tr>\n",
       "    <tr>\n",
       "      <th>75%</th>\n",
       "      <td>6.250000</td>\n",
       "      <td>38.000000</td>\n",
       "      <td>0.107900</td>\n",
       "      <td>0.306450</td>\n",
       "      <td>0.212400</td>\n",
       "      <td>0.099800</td>\n",
       "      <td>0.183900</td>\n",
       "      <td>0.096400</td>\n",
       "      <td>0.096900</td>\n",
       "      <td>0.173100</td>\n",
       "      <td>...</td>\n",
       "      <td>0.122300</td>\n",
       "      <td>0.174600</td>\n",
       "      <td>0.068900</td>\n",
       "      <td>0.107900</td>\n",
       "      <td>0.228800</td>\n",
       "      <td>0.145700</td>\n",
       "      <td>0.111100</td>\n",
       "      <td>0.350200</td>\n",
       "      <td>0.255100</td>\n",
       "      <td>0.103700</td>\n",
       "    </tr>\n",
       "    <tr>\n",
       "      <th>max</th>\n",
       "      <td>8.000000</td>\n",
       "      <td>50.000000</td>\n",
       "      <td>0.376100</td>\n",
       "      <td>12.506100</td>\n",
       "      <td>12.451700</td>\n",
       "      <td>0.241100</td>\n",
       "      <td>4.919700</td>\n",
       "      <td>4.799900</td>\n",
       "      <td>0.331200</td>\n",
       "      <td>25.987300</td>\n",
       "      <td>...</td>\n",
       "      <td>2.035300</td>\n",
       "      <td>3.327800</td>\n",
       "      <td>2.524200</td>\n",
       "      <td>0.357700</td>\n",
       "      <td>4.025200</td>\n",
       "      <td>3.978200</td>\n",
       "      <td>0.340700</td>\n",
       "      <td>5.883600</td>\n",
       "      <td>5.836400</td>\n",
       "      <td>0.265100</td>\n",
       "    </tr>\n",
       "  </tbody>\n",
       "</table>\n",
       "<p>8 rows × 33 columns</p>\n",
       "</div>"
      ],
      "text/plain": [
       "       sessionIndex           rep      H.period   DD.period.t   UD.period.t  \\\n",
       "count  20400.000000  20400.000000  20400.000000  20400.000000  20400.000000   \n",
       "mean       4.500000     25.500000      0.093379      0.264148      0.170769   \n",
       "std        2.291344     14.431223      0.029626      0.220534      0.226836   \n",
       "min        1.000000      1.000000      0.001400      0.018700     -0.235800   \n",
       "25%        2.750000     13.000000      0.074400      0.146900      0.049800   \n",
       "50%        4.500000     25.500000      0.089500      0.205950      0.108700   \n",
       "75%        6.250000     38.000000      0.107900      0.306450      0.212400   \n",
       "max        8.000000     50.000000      0.376100     12.506100     12.451700   \n",
       "\n",
       "                H.t        DD.t.i        UD.t.i           H.i        DD.i.e  \\\n",
       "count  20400.000000  20400.000000  20400.000000  20400.000000  20400.000000   \n",
       "mean       0.085727      0.169085      0.083358      0.081565      0.159372   \n",
       "std        0.027424      0.123546      0.125755      0.026887      0.226928   \n",
       "min        0.009300      0.001100     -0.162100      0.003200      0.001400   \n",
       "25%        0.066000      0.113600      0.027200      0.062000      0.089300   \n",
       "50%        0.081000      0.140400      0.057800      0.077100      0.120900   \n",
       "75%        0.099800      0.183900      0.096400      0.096900      0.173100   \n",
       "max        0.241100      4.919700      4.799900      0.331200     25.987300   \n",
       "\n",
       "       ...           H.a        DD.a.n        UD.a.n           H.n  \\\n",
       "count  ...  20400.000000  20400.000000  20400.000000  20400.000000   \n",
       "mean   ...      0.106259      0.150670      0.044411      0.089899   \n",
       "std    ...      0.038828      0.107422      0.105197      0.030738   \n",
       "min    ...      0.004000      0.001100     -0.235500      0.003700   \n",
       "25%    ...      0.082100      0.096100     -0.009000      0.067300   \n",
       "50%    ...      0.101900      0.125000      0.022700      0.085300   \n",
       "75%    ...      0.122300      0.174600      0.068900      0.107900   \n",
       "max    ...      2.035300      3.327800      2.524200      0.357700   \n",
       "\n",
       "             DD.n.l        UD.n.l           H.l   DD.l.Return   UD.l.Return  \\\n",
       "count  20400.000000  20400.000000  20400.000000  20400.000000  20400.000000   \n",
       "mean       0.202630      0.112731      0.095589      0.321847      0.226259   \n",
       "std        0.150191      0.159571      0.028348      0.225389      0.230759   \n",
       "min        0.001300     -0.175800      0.003700      0.008300     -0.124500   \n",
       "25%        0.127600      0.023500      0.077400      0.210000      0.114100   \n",
       "50%        0.172500      0.095500      0.093700      0.263000      0.160300   \n",
       "75%        0.228800      0.145700      0.111100      0.350200      0.255100   \n",
       "max        4.025200      3.978200      0.340700      5.883600      5.836400   \n",
       "\n",
       "           H.Return  \n",
       "count  20400.000000  \n",
       "mean       0.088306  \n",
       "std        0.027452  \n",
       "min        0.002900  \n",
       "25%        0.069900  \n",
       "50%        0.085500  \n",
       "75%        0.103700  \n",
       "max        0.265100  \n",
       "\n",
       "[8 rows x 33 columns]"
      ]
     },
     "execution_count": 7,
     "metadata": {},
     "output_type": "execute_result"
    }
   ],
   "source": [
    "\n",
    "data.describe()"
   ]
  },
  {
   "cell_type": "code",
   "execution_count": 8,
   "metadata": {},
   "outputs": [
    {
     "data": {
      "text/html": [
       "<div>\n",
       "<style scoped>\n",
       "    .dataframe tbody tr th:only-of-type {\n",
       "        vertical-align: middle;\n",
       "    }\n",
       "\n",
       "    .dataframe tbody tr th {\n",
       "        vertical-align: top;\n",
       "    }\n",
       "\n",
       "    .dataframe thead th {\n",
       "        text-align: right;\n",
       "    }\n",
       "</style>\n",
       "<table border=\"1\" class=\"dataframe\">\n",
       "  <thead>\n",
       "    <tr style=\"text-align: right;\">\n",
       "      <th></th>\n",
       "      <th>H.period</th>\n",
       "      <th>H.t</th>\n",
       "      <th>H.i</th>\n",
       "      <th>H.e</th>\n",
       "      <th>H.five</th>\n",
       "      <th>H.Shift.r</th>\n",
       "      <th>H.o</th>\n",
       "      <th>H.a</th>\n",
       "      <th>H.n</th>\n",
       "      <th>H.l</th>\n",
       "      <th>H.Return</th>\n",
       "    </tr>\n",
       "  </thead>\n",
       "  <tbody>\n",
       "    <tr>\n",
       "      <th>count</th>\n",
       "      <td>20400.000000</td>\n",
       "      <td>20400.000000</td>\n",
       "      <td>20400.000000</td>\n",
       "      <td>20400.000000</td>\n",
       "      <td>20400.000000</td>\n",
       "      <td>20400.000000</td>\n",
       "      <td>20400.000000</td>\n",
       "      <td>20400.000000</td>\n",
       "      <td>20400.000000</td>\n",
       "      <td>20400.000000</td>\n",
       "      <td>20400.000000</td>\n",
       "    </tr>\n",
       "    <tr>\n",
       "      <th>mean</th>\n",
       "      <td>0.093379</td>\n",
       "      <td>0.085727</td>\n",
       "      <td>0.081565</td>\n",
       "      <td>0.089138</td>\n",
       "      <td>0.076904</td>\n",
       "      <td>0.095937</td>\n",
       "      <td>0.088354</td>\n",
       "      <td>0.106259</td>\n",
       "      <td>0.089899</td>\n",
       "      <td>0.095589</td>\n",
       "      <td>0.088306</td>\n",
       "    </tr>\n",
       "    <tr>\n",
       "      <th>std</th>\n",
       "      <td>0.029626</td>\n",
       "      <td>0.027424</td>\n",
       "      <td>0.026887</td>\n",
       "      <td>0.030635</td>\n",
       "      <td>0.021746</td>\n",
       "      <td>0.033900</td>\n",
       "      <td>0.026427</td>\n",
       "      <td>0.038828</td>\n",
       "      <td>0.030738</td>\n",
       "      <td>0.028348</td>\n",
       "      <td>0.027452</td>\n",
       "    </tr>\n",
       "    <tr>\n",
       "      <th>min</th>\n",
       "      <td>0.001400</td>\n",
       "      <td>0.009300</td>\n",
       "      <td>0.003200</td>\n",
       "      <td>0.002100</td>\n",
       "      <td>0.001400</td>\n",
       "      <td>0.001400</td>\n",
       "      <td>0.006900</td>\n",
       "      <td>0.004000</td>\n",
       "      <td>0.003700</td>\n",
       "      <td>0.003700</td>\n",
       "      <td>0.002900</td>\n",
       "    </tr>\n",
       "    <tr>\n",
       "      <th>25%</th>\n",
       "      <td>0.074400</td>\n",
       "      <td>0.066000</td>\n",
       "      <td>0.062000</td>\n",
       "      <td>0.068600</td>\n",
       "      <td>0.061000</td>\n",
       "      <td>0.070200</td>\n",
       "      <td>0.071500</td>\n",
       "      <td>0.082100</td>\n",
       "      <td>0.067300</td>\n",
       "      <td>0.077400</td>\n",
       "      <td>0.069900</td>\n",
       "    </tr>\n",
       "    <tr>\n",
       "      <th>50%</th>\n",
       "      <td>0.089500</td>\n",
       "      <td>0.081000</td>\n",
       "      <td>0.077100</td>\n",
       "      <td>0.083400</td>\n",
       "      <td>0.074200</td>\n",
       "      <td>0.093500</td>\n",
       "      <td>0.086300</td>\n",
       "      <td>0.101900</td>\n",
       "      <td>0.085300</td>\n",
       "      <td>0.093700</td>\n",
       "      <td>0.085500</td>\n",
       "    </tr>\n",
       "    <tr>\n",
       "      <th>75%</th>\n",
       "      <td>0.107900</td>\n",
       "      <td>0.099800</td>\n",
       "      <td>0.096900</td>\n",
       "      <td>0.102700</td>\n",
       "      <td>0.090600</td>\n",
       "      <td>0.116700</td>\n",
       "      <td>0.101900</td>\n",
       "      <td>0.122300</td>\n",
       "      <td>0.107900</td>\n",
       "      <td>0.111100</td>\n",
       "      <td>0.103700</td>\n",
       "    </tr>\n",
       "    <tr>\n",
       "      <th>max</th>\n",
       "      <td>0.376100</td>\n",
       "      <td>0.241100</td>\n",
       "      <td>0.331200</td>\n",
       "      <td>0.325400</td>\n",
       "      <td>0.198900</td>\n",
       "      <td>0.281700</td>\n",
       "      <td>0.687200</td>\n",
       "      <td>2.035300</td>\n",
       "      <td>0.357700</td>\n",
       "      <td>0.340700</td>\n",
       "      <td>0.265100</td>\n",
       "    </tr>\n",
       "  </tbody>\n",
       "</table>\n",
       "</div>"
      ],
      "text/plain": [
       "           H.period           H.t           H.i           H.e        H.five  \\\n",
       "count  20400.000000  20400.000000  20400.000000  20400.000000  20400.000000   \n",
       "mean       0.093379      0.085727      0.081565      0.089138      0.076904   \n",
       "std        0.029626      0.027424      0.026887      0.030635      0.021746   \n",
       "min        0.001400      0.009300      0.003200      0.002100      0.001400   \n",
       "25%        0.074400      0.066000      0.062000      0.068600      0.061000   \n",
       "50%        0.089500      0.081000      0.077100      0.083400      0.074200   \n",
       "75%        0.107900      0.099800      0.096900      0.102700      0.090600   \n",
       "max        0.376100      0.241100      0.331200      0.325400      0.198900   \n",
       "\n",
       "          H.Shift.r           H.o           H.a           H.n           H.l  \\\n",
       "count  20400.000000  20400.000000  20400.000000  20400.000000  20400.000000   \n",
       "mean       0.095937      0.088354      0.106259      0.089899      0.095589   \n",
       "std        0.033900      0.026427      0.038828      0.030738      0.028348   \n",
       "min        0.001400      0.006900      0.004000      0.003700      0.003700   \n",
       "25%        0.070200      0.071500      0.082100      0.067300      0.077400   \n",
       "50%        0.093500      0.086300      0.101900      0.085300      0.093700   \n",
       "75%        0.116700      0.101900      0.122300      0.107900      0.111100   \n",
       "max        0.281700      0.687200      2.035300      0.357700      0.340700   \n",
       "\n",
       "           H.Return  \n",
       "count  20400.000000  \n",
       "mean       0.088306  \n",
       "std        0.027452  \n",
       "min        0.002900  \n",
       "25%        0.069900  \n",
       "50%        0.085500  \n",
       "75%        0.103700  \n",
       "max        0.265100  "
      ]
     },
     "execution_count": 8,
     "metadata": {},
     "output_type": "execute_result"
    }
   ],
   "source": [
    "\n",
    "data[[x for x in data.columns if 'H' in x]].describe()"
   ]
  },
  {
   "cell_type": "code",
   "execution_count": 9,
   "metadata": {},
   "outputs": [
    {
     "data": {
      "text/html": [
       "<div>\n",
       "<style scoped>\n",
       "    .dataframe tbody tr th:only-of-type {\n",
       "        vertical-align: middle;\n",
       "    }\n",
       "\n",
       "    .dataframe tbody tr th {\n",
       "        vertical-align: top;\n",
       "    }\n",
       "\n",
       "    .dataframe thead th {\n",
       "        text-align: right;\n",
       "    }\n",
       "</style>\n",
       "<table border=\"1\" class=\"dataframe\">\n",
       "  <thead>\n",
       "    <tr style=\"text-align: right;\">\n",
       "      <th></th>\n",
       "      <th>DD.period.t</th>\n",
       "      <th>DD.t.i</th>\n",
       "      <th>DD.i.e</th>\n",
       "      <th>DD.e.five</th>\n",
       "      <th>DD.five.Shift.r</th>\n",
       "      <th>DD.Shift.r.o</th>\n",
       "      <th>DD.o.a</th>\n",
       "      <th>DD.a.n</th>\n",
       "      <th>DD.n.l</th>\n",
       "      <th>DD.l.Return</th>\n",
       "    </tr>\n",
       "  </thead>\n",
       "  <tbody>\n",
       "    <tr>\n",
       "      <th>count</th>\n",
       "      <td>20400.000000</td>\n",
       "      <td>20400.000000</td>\n",
       "      <td>20400.000000</td>\n",
       "      <td>20400.000000</td>\n",
       "      <td>20400.000000</td>\n",
       "      <td>20400.000000</td>\n",
       "      <td>20400.000000</td>\n",
       "      <td>20400.000000</td>\n",
       "      <td>20400.000000</td>\n",
       "      <td>20400.000000</td>\n",
       "    </tr>\n",
       "    <tr>\n",
       "      <th>mean</th>\n",
       "      <td>0.264148</td>\n",
       "      <td>0.169085</td>\n",
       "      <td>0.159372</td>\n",
       "      <td>0.377434</td>\n",
       "      <td>0.438887</td>\n",
       "      <td>0.250921</td>\n",
       "      <td>0.156931</td>\n",
       "      <td>0.150670</td>\n",
       "      <td>0.202630</td>\n",
       "      <td>0.321847</td>\n",
       "    </tr>\n",
       "    <tr>\n",
       "      <th>std</th>\n",
       "      <td>0.220534</td>\n",
       "      <td>0.123546</td>\n",
       "      <td>0.226928</td>\n",
       "      <td>0.265342</td>\n",
       "      <td>0.260343</td>\n",
       "      <td>0.174533</td>\n",
       "      <td>0.106557</td>\n",
       "      <td>0.107422</td>\n",
       "      <td>0.150191</td>\n",
       "      <td>0.225389</td>\n",
       "    </tr>\n",
       "    <tr>\n",
       "      <th>min</th>\n",
       "      <td>0.018700</td>\n",
       "      <td>0.001100</td>\n",
       "      <td>0.001400</td>\n",
       "      <td>0.001300</td>\n",
       "      <td>0.169400</td>\n",
       "      <td>0.049400</td>\n",
       "      <td>0.001200</td>\n",
       "      <td>0.001100</td>\n",
       "      <td>0.001300</td>\n",
       "      <td>0.008300</td>\n",
       "    </tr>\n",
       "    <tr>\n",
       "      <th>25%</th>\n",
       "      <td>0.146900</td>\n",
       "      <td>0.113600</td>\n",
       "      <td>0.089300</td>\n",
       "      <td>0.216600</td>\n",
       "      <td>0.307900</td>\n",
       "      <td>0.156500</td>\n",
       "      <td>0.106400</td>\n",
       "      <td>0.096100</td>\n",
       "      <td>0.127600</td>\n",
       "      <td>0.210000</td>\n",
       "    </tr>\n",
       "    <tr>\n",
       "      <th>50%</th>\n",
       "      <td>0.205950</td>\n",
       "      <td>0.140400</td>\n",
       "      <td>0.120900</td>\n",
       "      <td>0.289000</td>\n",
       "      <td>0.377500</td>\n",
       "      <td>0.201350</td>\n",
       "      <td>0.131600</td>\n",
       "      <td>0.125000</td>\n",
       "      <td>0.172500</td>\n",
       "      <td>0.263000</td>\n",
       "    </tr>\n",
       "    <tr>\n",
       "      <th>75%</th>\n",
       "      <td>0.306450</td>\n",
       "      <td>0.183900</td>\n",
       "      <td>0.173100</td>\n",
       "      <td>0.456850</td>\n",
       "      <td>0.486025</td>\n",
       "      <td>0.283425</td>\n",
       "      <td>0.167600</td>\n",
       "      <td>0.174600</td>\n",
       "      <td>0.228800</td>\n",
       "      <td>0.350200</td>\n",
       "    </tr>\n",
       "    <tr>\n",
       "      <th>max</th>\n",
       "      <td>12.506100</td>\n",
       "      <td>4.919700</td>\n",
       "      <td>25.987300</td>\n",
       "      <td>4.961800</td>\n",
       "      <td>8.370200</td>\n",
       "      <td>4.152300</td>\n",
       "      <td>2.856700</td>\n",
       "      <td>3.327800</td>\n",
       "      <td>4.025200</td>\n",
       "      <td>5.883600</td>\n",
       "    </tr>\n",
       "  </tbody>\n",
       "</table>\n",
       "</div>"
      ],
      "text/plain": [
       "        DD.period.t        DD.t.i        DD.i.e     DD.e.five  \\\n",
       "count  20400.000000  20400.000000  20400.000000  20400.000000   \n",
       "mean       0.264148      0.169085      0.159372      0.377434   \n",
       "std        0.220534      0.123546      0.226928      0.265342   \n",
       "min        0.018700      0.001100      0.001400      0.001300   \n",
       "25%        0.146900      0.113600      0.089300      0.216600   \n",
       "50%        0.205950      0.140400      0.120900      0.289000   \n",
       "75%        0.306450      0.183900      0.173100      0.456850   \n",
       "max       12.506100      4.919700     25.987300      4.961800   \n",
       "\n",
       "       DD.five.Shift.r  DD.Shift.r.o        DD.o.a        DD.a.n  \\\n",
       "count     20400.000000  20400.000000  20400.000000  20400.000000   \n",
       "mean          0.438887      0.250921      0.156931      0.150670   \n",
       "std           0.260343      0.174533      0.106557      0.107422   \n",
       "min           0.169400      0.049400      0.001200      0.001100   \n",
       "25%           0.307900      0.156500      0.106400      0.096100   \n",
       "50%           0.377500      0.201350      0.131600      0.125000   \n",
       "75%           0.486025      0.283425      0.167600      0.174600   \n",
       "max           8.370200      4.152300      2.856700      3.327800   \n",
       "\n",
       "             DD.n.l   DD.l.Return  \n",
       "count  20400.000000  20400.000000  \n",
       "mean       0.202630      0.321847  \n",
       "std        0.150191      0.225389  \n",
       "min        0.001300      0.008300  \n",
       "25%        0.127600      0.210000  \n",
       "50%        0.172500      0.263000  \n",
       "75%        0.228800      0.350200  \n",
       "max        4.025200      5.883600  "
      ]
     },
     "execution_count": 9,
     "metadata": {},
     "output_type": "execute_result"
    }
   ],
   "source": [
    "data[[x for x in data.columns if 'DD' in x]].describe()"
   ]
  },
  {
   "cell_type": "code",
   "execution_count": 10,
   "metadata": {},
   "outputs": [
    {
     "data": {
      "text/html": [
       "<div>\n",
       "<style scoped>\n",
       "    .dataframe tbody tr th:only-of-type {\n",
       "        vertical-align: middle;\n",
       "    }\n",
       "\n",
       "    .dataframe tbody tr th {\n",
       "        vertical-align: top;\n",
       "    }\n",
       "\n",
       "    .dataframe thead th {\n",
       "        text-align: right;\n",
       "    }\n",
       "</style>\n",
       "<table border=\"1\" class=\"dataframe\">\n",
       "  <thead>\n",
       "    <tr style=\"text-align: right;\">\n",
       "      <th></th>\n",
       "      <th>UD.period.t</th>\n",
       "      <th>UD.t.i</th>\n",
       "      <th>UD.i.e</th>\n",
       "      <th>UD.e.five</th>\n",
       "      <th>UD.five.Shift.r</th>\n",
       "      <th>UD.Shift.r.o</th>\n",
       "      <th>UD.o.a</th>\n",
       "      <th>UD.a.n</th>\n",
       "      <th>UD.n.l</th>\n",
       "      <th>UD.l.Return</th>\n",
       "    </tr>\n",
       "  </thead>\n",
       "  <tbody>\n",
       "    <tr>\n",
       "      <th>count</th>\n",
       "      <td>20400.000000</td>\n",
       "      <td>20400.000000</td>\n",
       "      <td>20400.000000</td>\n",
       "      <td>20400.000000</td>\n",
       "      <td>20400.000000</td>\n",
       "      <td>20400.000000</td>\n",
       "      <td>20400.000000</td>\n",
       "      <td>20400.000000</td>\n",
       "      <td>20400.000000</td>\n",
       "      <td>20400.000000</td>\n",
       "    </tr>\n",
       "    <tr>\n",
       "      <th>mean</th>\n",
       "      <td>0.170769</td>\n",
       "      <td>0.083358</td>\n",
       "      <td>0.077806</td>\n",
       "      <td>0.288295</td>\n",
       "      <td>0.361983</td>\n",
       "      <td>0.154984</td>\n",
       "      <td>0.068577</td>\n",
       "      <td>0.044411</td>\n",
       "      <td>0.112731</td>\n",
       "      <td>0.226259</td>\n",
       "    </tr>\n",
       "    <tr>\n",
       "      <th>std</th>\n",
       "      <td>0.226836</td>\n",
       "      <td>0.125755</td>\n",
       "      <td>0.228512</td>\n",
       "      <td>0.266695</td>\n",
       "      <td>0.260886</td>\n",
       "      <td>0.181619</td>\n",
       "      <td>0.108509</td>\n",
       "      <td>0.105197</td>\n",
       "      <td>0.159571</td>\n",
       "      <td>0.230759</td>\n",
       "    </tr>\n",
       "    <tr>\n",
       "      <th>min</th>\n",
       "      <td>-0.235800</td>\n",
       "      <td>-0.162100</td>\n",
       "      <td>-0.160000</td>\n",
       "      <td>-0.150500</td>\n",
       "      <td>0.085600</td>\n",
       "      <td>-0.086500</td>\n",
       "      <td>-0.228700</td>\n",
       "      <td>-0.235500</td>\n",
       "      <td>-0.175800</td>\n",
       "      <td>-0.124500</td>\n",
       "    </tr>\n",
       "    <tr>\n",
       "      <th>25%</th>\n",
       "      <td>0.049800</td>\n",
       "      <td>0.027200</td>\n",
       "      <td>0.007400</td>\n",
       "      <td>0.133200</td>\n",
       "      <td>0.229675</td>\n",
       "      <td>0.054700</td>\n",
       "      <td>0.017000</td>\n",
       "      <td>-0.009000</td>\n",
       "      <td>0.023500</td>\n",
       "      <td>0.114100</td>\n",
       "    </tr>\n",
       "    <tr>\n",
       "      <th>50%</th>\n",
       "      <td>0.108700</td>\n",
       "      <td>0.057800</td>\n",
       "      <td>0.041200</td>\n",
       "      <td>0.200400</td>\n",
       "      <td>0.302000</td>\n",
       "      <td>0.102200</td>\n",
       "      <td>0.044400</td>\n",
       "      <td>0.022700</td>\n",
       "      <td>0.095500</td>\n",
       "      <td>0.160300</td>\n",
       "    </tr>\n",
       "    <tr>\n",
       "      <th>75%</th>\n",
       "      <td>0.212400</td>\n",
       "      <td>0.096400</td>\n",
       "      <td>0.093400</td>\n",
       "      <td>0.369400</td>\n",
       "      <td>0.408900</td>\n",
       "      <td>0.191000</td>\n",
       "      <td>0.080300</td>\n",
       "      <td>0.068900</td>\n",
       "      <td>0.145700</td>\n",
       "      <td>0.255100</td>\n",
       "    </tr>\n",
       "    <tr>\n",
       "      <th>max</th>\n",
       "      <td>12.451700</td>\n",
       "      <td>4.799900</td>\n",
       "      <td>25.915800</td>\n",
       "      <td>4.882700</td>\n",
       "      <td>8.290800</td>\n",
       "      <td>4.012000</td>\n",
       "      <td>2.815200</td>\n",
       "      <td>2.524200</td>\n",
       "      <td>3.978200</td>\n",
       "      <td>5.836400</td>\n",
       "    </tr>\n",
       "  </tbody>\n",
       "</table>\n",
       "</div>"
      ],
      "text/plain": [
       "        UD.period.t        UD.t.i        UD.i.e     UD.e.five  \\\n",
       "count  20400.000000  20400.000000  20400.000000  20400.000000   \n",
       "mean       0.170769      0.083358      0.077806      0.288295   \n",
       "std        0.226836      0.125755      0.228512      0.266695   \n",
       "min       -0.235800     -0.162100     -0.160000     -0.150500   \n",
       "25%        0.049800      0.027200      0.007400      0.133200   \n",
       "50%        0.108700      0.057800      0.041200      0.200400   \n",
       "75%        0.212400      0.096400      0.093400      0.369400   \n",
       "max       12.451700      4.799900     25.915800      4.882700   \n",
       "\n",
       "       UD.five.Shift.r  UD.Shift.r.o        UD.o.a        UD.a.n  \\\n",
       "count     20400.000000  20400.000000  20400.000000  20400.000000   \n",
       "mean          0.361983      0.154984      0.068577      0.044411   \n",
       "std           0.260886      0.181619      0.108509      0.105197   \n",
       "min           0.085600     -0.086500     -0.228700     -0.235500   \n",
       "25%           0.229675      0.054700      0.017000     -0.009000   \n",
       "50%           0.302000      0.102200      0.044400      0.022700   \n",
       "75%           0.408900      0.191000      0.080300      0.068900   \n",
       "max           8.290800      4.012000      2.815200      2.524200   \n",
       "\n",
       "             UD.n.l   UD.l.Return  \n",
       "count  20400.000000  20400.000000  \n",
       "mean       0.112731      0.226259  \n",
       "std        0.159571      0.230759  \n",
       "min       -0.175800     -0.124500  \n",
       "25%        0.023500      0.114100  \n",
       "50%        0.095500      0.160300  \n",
       "75%        0.145700      0.255100  \n",
       "max        3.978200      5.836400  "
      ]
     },
     "execution_count": 10,
     "metadata": {},
     "output_type": "execute_result"
    }
   ],
   "source": [
    "data[[x for x in data.columns if 'UD' in x]].describe()"
   ]
  },
  {
   "cell_type": "code",
   "execution_count": 11,
   "metadata": {},
   "outputs": [],
   "source": [
    "indx_col = ['subject','sessionIndex','rep']\n",
    "indx = data[indx_col]\n",
    "label = [ int(x[1:]) for x in data['subject']]\n",
    "features = data.drop(columns=indx_col)"
   ]
  },
  {
   "cell_type": "markdown",
   "metadata": {},
   "source": [
    "# 2. Первичный визуальный анализ данных"
   ]
  },
  {
   "cell_type": "code",
   "execution_count": 12,
   "metadata": {},
   "outputs": [
    {
     "data": {
      "text/plain": [
       "<AxesSubplot:>"
      ]
     },
     "execution_count": 12,
     "metadata": {},
     "output_type": "execute_result"
    },
    {
     "data": {
      "image/png": "[encoded data removed]",
      "text/plain": [
       "<Figure size 842.4x595.44 with 2 Axes>"
      ]
     },
     "metadata": {
      "needs_background": "light"
     },
     "output_type": "display_data"
    }
   ],
   "source": [
    "a4_dims = (11.7, 8.27)\n",
    "df = features.corr()\n",
    "fig, ax = pyplot.subplots(figsize=a4_dims)\n",
    "seaborn.heatmap(ax=ax, data=df)"
   ]
  },
  {
   "cell_type": "code",
   "execution_count": 13,
   "metadata": {},
   "outputs": [
    {
     "data": {
      "text/plain": [
       "<AxesSubplot:>"
      ]
     },
     "execution_count": 13,
     "metadata": {},
     "output_type": "execute_result"
    },
    {
     "data": {
      "image/png": "[encoded data removed]",
      "text/plain": [
       "<Figure size 842.4x595.44 with 2 Axes>"
      ]
     },
     "metadata": {
      "needs_background": "light"
     },
     "output_type": "display_data"
    }
   ],
   "source": [
    "features_H_UD = features.drop(columns=[x for x in features.columns if 'DD' in x])\n",
    "df = features_H_UD.corr()\n",
    "fig, ax = pyplot.subplots(figsize=a4_dims)\n",
    "seaborn.heatmap(ax=ax, data=df)"
   ]
  },
  {
   "cell_type": "code",
   "execution_count": 14,
   "metadata": {},
   "outputs": [
    {
     "data": {
      "text/plain": [
       "<matplotlib.colorbar.Colorbar at 0x1be00b1dbe0>"
      ]
     },
     "execution_count": 14,
     "metadata": {},
     "output_type": "execute_result"
    },
    {
     "data": {
      "image/png": "[encoded data removed]",
      "text/plain": [
       "<Figure size 864x720 with 2 Axes>"
      ]
     },
     "metadata": {
      "needs_background": "light"
     },
     "output_type": "display_data"
    }
   ],
   "source": [
    "from sklearn.decomposition import PCA\n",
    "pca = PCA(n_components=2)\n",
    "features_pca = pca.fit_transform(features_H_UD)\n",
    "\n",
    "plt.figure(figsize=(12,10))\n",
    "plt.scatter(features_pca[:, 0], features_pca[:, 1], c=label, \n",
    "            edgecolor='none', alpha=0.7, s=40,\n",
    "            cmap=plt.cm.get_cmap('nipy_spectral', 51))\n",
    "plt.colorbar()"
   ]
  },
  {
   "cell_type": "code",
   "execution_count": 16,
   "metadata": {},
   "outputs": [
    {
     "data": {
      "text/plain": [
       "Text(0, 0.5, 'Total explained variance')"
      ]
     },
     "execution_count": 16,
     "metadata": {},
     "output_type": "execute_result"
    },
    {
     "data": {
      "image/png": "[encoded data removed]",
      "text/plain": [
       "<Figure size 720x504 with 1 Axes>"
      ]
     },
     "metadata": {
      "needs_background": "light"
     },
     "output_type": "display_data"
    }
   ],
   "source": [
    "pca = PCA().fit(features_H_UD)\n",
    "plt.figure(figsize=(10,7))\n",
    "plt.plot(np.cumsum(pca.explained_variance_ratio_), color='k', lw=2)\n",
    "plt.xlabel('Number of components')\n",
    "plt.ylabel('Total explained variance')"
   ]
  },
  {
   "cell_type": "markdown",
   "metadata": {},
   "source": [
    "# 3. Предобработка данных"
   ]
  },
  {
   "cell_type": "code",
   "execution_count": 17,
   "metadata": {},
   "outputs": [
    {
     "name": "stdout",
     "output_type": "stream",
     "text": [
      "20400 (20400, 21)\n",
      "51\n",
      "(400, 21)\n",
      "(400,)\n",
      "(500, 21)\n",
      "(500,)\n"
     ]
    }
   ],
   "source": [
    "from collections import defaultdict\n",
    "\n",
    "print(len(label), features_H_UD.values.shape)\n",
    "\n",
    "data_dict = defaultdict(list)\n",
    "\n",
    "for ind,l in enumerate(label):\n",
    "    data_dict[l].append(features_H_UD.values[ind])\n",
    "    \n",
    "data_len = len(data_dict)\n",
    "print(data_len)\n",
    "\n",
    "\n",
    "def prepare_data(data_dict, index):\n",
    "    train_x = []\n",
    "    test_x = []\n",
    "    train_y = []\n",
    "    test_y = []\n",
    "    \n",
    "    for ind, i in enumerate(data_dict):\n",
    "        if ind==index:\n",
    "            train_x.extend(data_dict[i][:150])\n",
    "            train_y.extend([1]*150)\n",
    "            test_x.extend(data_dict[i][150:])\n",
    "            test_y.extend([1]*250)\n",
    "        else:\n",
    "            train_x.extend(data_dict[i][:5])\n",
    "            train_y.extend([0]*5)\n",
    "            test_x.extend(data_dict[i][5::79])\n",
    "            test_y.extend([0]*5)\n",
    "    return train_x, train_y, test_x, test_y\n",
    "\n",
    "trte = prepare_data(data_dict,0)\n",
    "for i in trte:\n",
    "    print(np.array(i).shape)"
   ]
  },
  {
   "cell_type": "markdown",
   "metadata": {},
   "source": [
    "# 4.Кросс-валидация и настройка гиперпараметров модели"
   ]
  },
  {
   "cell_type": "code",
   "execution_count": 18,
   "metadata": {},
   "outputs": [
    {
     "name": "stdout",
     "output_type": "stream",
     "text": [
      "Fitting 5 folds for each of 81 candidates, totalling 405 fits\n"
     ]
    },
    {
     "name": "stderr",
     "output_type": "stream",
     "text": [
      "[Parallel(n_jobs=-1)]: Using backend LokyBackend with 4 concurrent workers.\n",
      "[Parallel(n_jobs=-1)]: Done  42 tasks      | elapsed:    4.9s\n",
      "[Parallel(n_jobs=-1)]: Done 192 tasks      | elapsed:   18.2s\n",
      "[Parallel(n_jobs=-1)]: Done 405 out of 405 | elapsed:   38.4s finished\n"
     ]
    },
    {
     "data": {
      "text/plain": [
       "GridSearchCV(cv=StratifiedKFold(n_splits=5, random_state=42, shuffle=True),\n",
       "             estimator=RandomForestClassifier(n_jobs=-1, random_state=42),\n",
       "             n_jobs=-1,\n",
       "             param_grid={'max_depth': [3, 5, 10], 'max_features': [4, 7, 10],\n",
       "                         'min_samples_leaf': [3, 5, 7],\n",
       "                         'n_estimators': [50, 100, 200]},\n",
       "             scoring='roc_auc', verbose=1)"
      ]
     },
     "execution_count": 18,
     "metadata": {},
     "output_type": "execute_result"
    }
   ],
   "source": [
    "from sklearn.model_selection  import StratifiedKFold\n",
    "from sklearn.model_selection  import GridSearchCV\n",
    "from sklearn.ensemble import RandomForestClassifier\n",
    "RANDOM_STATE = 42\n",
    "parameters = {'n_estimators':[50,100,200], 'max_features': [4, 7, 10], \n",
    "              'min_samples_leaf': [3, 5, 7], 'max_depth': [3,5,10]}\n",
    "\n",
    "np.random.seed(RANDOM_STATE)\n",
    "train_x, train_y, test_x, test_y = prepare_data(data_dict,index=np.random.randint(len(data_dict)))\n",
    "\n",
    "\n",
    "skf = StratifiedKFold(n_splits=5, shuffle=True, random_state=RANDOM_STATE)\n",
    "\n",
    "rfc = RandomForestClassifier(random_state=RANDOM_STATE,n_jobs=-1)\n",
    "gcv = GridSearchCV(rfc, parameters, n_jobs=-1, cv=skf, verbose=1,scoring='roc_auc')\n",
    "gcv.fit(train_x, train_y)"
   ]
  },
  {
   "cell_type": "code",
   "execution_count": 19,
   "metadata": {},
   "outputs": [
    {
     "data": {
      "text/plain": [
       "({'max_depth': 3,\n",
       "  'max_features': 4,\n",
       "  'min_samples_leaf': 3,\n",
       "  'n_estimators': 100},\n",
       " 0.9989333333333335)"
      ]
     },
     "execution_count": 19,
     "metadata": {},
     "output_type": "execute_result"
    }
   ],
   "source": [
    "gcv.best_params_, gcv.best_score_"
   ]
  },
  {
   "cell_type": "code",
   "execution_count": 20,
   "metadata": {},
   "outputs": [
    {
     "data": {
      "text/plain": [
       "0.958864"
      ]
     },
     "execution_count": 20,
     "metadata": {},
     "output_type": "execute_result"
    }
   ],
   "source": [
    "from sklearn.metrics import roc_auc_score\n",
    "y_pred = gcv.best_estimator_.predict_proba(test_x)\n",
    "roc_auc_score(test_y,y_pred[:,1])"
   ]
  },
  {
   "cell_type": "markdown",
   "metadata": {},
   "source": [
    "# 5. Создание новых признаков и описание этого процесса"
   ]
  },
  {
   "cell_type": "code",
   "execution_count": 21,
   "metadata": {},
   "outputs": [
    {
     "name": "stdout",
     "output_type": "stream",
     "text": [
      "Fitting 5 folds for each of 81 candidates, totalling 405 fits\n"
     ]
    },
    {
     "name": "stderr",
     "output_type": "stream",
     "text": [
      "[Parallel(n_jobs=-1)]: Using backend LokyBackend with 4 concurrent workers.\n",
      "[Parallel(n_jobs=-1)]: Done  76 tasks      | elapsed:    5.9s\n",
      "[Parallel(n_jobs=-1)]: Done 376 tasks      | elapsed:   34.9s\n",
      "[Parallel(n_jobs=-1)]: Done 405 out of 405 | elapsed:   38.5s finished\n"
     ]
    },
    {
     "data": {
      "text/plain": [
       "GridSearchCV(cv=StratifiedKFold(n_splits=5, random_state=42, shuffle=True),\n",
       "             estimator=RandomForestClassifier(n_jobs=-1, random_state=42),\n",
       "             n_jobs=-1,\n",
       "             param_grid={'max_depth': [3, 5, 10], 'max_features': [4, 7, 10],\n",
       "                         'min_samples_leaf': [3, 5, 7],\n",
       "                         'n_estimators': [50, 100, 200]},\n",
       "             scoring='roc_auc', verbose=1)"
      ]
     },
     "execution_count": 21,
     "metadata": {},
     "output_type": "execute_result"
    }
   ],
   "source": [
    "rfc_pca = RandomForestClassifier(random_state=RANDOM_STATE,n_jobs=-1)\n",
    "gcv_pca = GridSearchCV(rfc_pca, parameters, n_jobs=-1, cv=skf, verbose=1,scoring='roc_auc')\n",
    "train_x_pca = pca.transform(train_x)[:,:10]\n",
    "gcv_pca.fit(train_x_pca, train_y)"
   ]
  },
  {
   "cell_type": "code",
   "execution_count": 22,
   "metadata": {},
   "outputs": [
    {
     "data": {
      "text/plain": [
       "({'max_depth': 10,\n",
       "  'max_features': 4,\n",
       "  'min_samples_leaf': 3,\n",
       "  'n_estimators': 200},\n",
       " 0.9597333333333333)"
      ]
     },
     "execution_count": 22,
     "metadata": {},
     "output_type": "execute_result"
    }
   ],
   "source": [
    "gcv_pca.best_params_, gcv_pca.best_score_"
   ]
  },
  {
   "cell_type": "code",
   "execution_count": 23,
   "metadata": {},
   "outputs": [
    {
     "data": {
      "text/plain": [
       "0.797128"
      ]
     },
     "execution_count": 23,
     "metadata": {},
     "output_type": "execute_result"
    }
   ],
   "source": [
    "test_x_pca = pca.transform(test_x)\n",
    "y_pred_pca = gcv.best_estimator_.predict_proba(test_x_pca)\n",
    "roc_auc_score(test_y,y_pred_pca[:,1])"
   ]
  },
  {
   "cell_type": "markdown",
   "metadata": {},
   "source": [
    "# 5.Построение кривых валидации и обучения"
   ]
  },
  {
   "cell_type": "code",
   "execution_count": 24,
   "metadata": {},
   "outputs": [
    {
     "data": {
      "image/png": "[encoded data removed]",
      "text/plain": [
       "<Figure size 432x288 with 1 Axes>"
      ]
     },
     "metadata": {
      "needs_background": "light"
     },
     "output_type": "display_data"
    }
   ],
   "source": [
    "from sklearn.model_selection import learning_curve\n",
    "def plot_learning_curve(estimator, title, X, y, ylim=None, cv=None,\n",
    "                        n_jobs=1, train_sizes=np.linspace(.1, 1.0, 5)):\n",
    "    pyplot.figure()\n",
    "    pyplot.title(title)\n",
    "    if ylim is not None:\n",
    "        pyplot.ylim(*ylim)\n",
    "    pyplot.xlabel(\"Training examples\")\n",
    "    pyplot.ylabel(\"Score\")\n",
    "    \n",
    "    train_sizes, train_scores, test_scores = learning_curve(\n",
    "        estimator, X, y, cv=cv, n_jobs=n_jobs, train_sizes=train_sizes)\n",
    "    \n",
    "    train_scores_mean = np.mean(train_scores, axis=1)\n",
    "    train_scores_std = np.std(train_scores, axis=1)\n",
    "    test_scores_mean = np.mean(test_scores, axis=1)\n",
    "    test_scores_std = np.std(test_scores, axis=1)\n",
    "    pyplot.grid()\n",
    "\n",
    "    pyplot.fill_between(train_sizes, train_scores_mean - train_scores_std,\n",
    "                     train_scores_mean + train_scores_std, alpha=0.1,\n",
    "                     color=\"r\")\n",
    "    pyplot.fill_between(train_sizes, test_scores_mean - test_scores_std,\n",
    "                     test_scores_mean + test_scores_std, alpha=0.1, color=\"g\")\n",
    "    pyplot.plot(train_sizes, train_scores_mean, 'o-', color=\"r\",\n",
    "             label=\"Training score\")\n",
    "    pyplot.plot(train_sizes, test_scores_mean, 'o-', color=\"g\",\n",
    "             label=\"Cross-validation score\")\n",
    "\n",
    "    pyplot.legend(loc=\"best\")\n",
    "    return pyplot\n",
    "\n",
    "\n",
    "\n",
    "estimator = gcv.best_estimator_\n",
    "plot_learning_curve(estimator, 'Кривые валидации и обучения', train_x, train_y, ylim=(0.0, 1.01), cv=skf, n_jobs=-1)\n",
    "\n",
    "\n",
    "pyplot.show()"
   ]
  },
  {
   "cell_type": "markdown",
   "metadata": {},
   "source": [
    "# 5.Прогноз для тестовой или отложенной выборке"
   ]
  },
  {
   "cell_type": "code",
   "execution_count": 25,
   "metadata": {},
   "outputs": [
    {
     "name": "stderr",
     "output_type": "stream",
     "text": [
      "51it [00:00, 444.66it/s]\n"
     ]
    },
    {
     "data": {
      "text/plain": [
       "0.4830851764705883"
      ]
     },
     "execution_count": 25,
     "metadata": {},
     "output_type": "execute_result"
    }
   ],
   "source": [
    "from tqdm import tqdm\n",
    "all_roc = []\n",
    "for ind,i in tqdm(enumerate(data_dict)):\n",
    "    e_train_x, e_train_y, e_test_x, e_test_y = prepare_data(data_dict,ind)\n",
    "    e_train_x = np.array(e_train_x)  \n",
    "    e_train_y = np.array(e_train_y) \n",
    "    e_test_x = np.array(e_test_x) \n",
    "    e_test_y = np.array(e_test_y) \n",
    "    target = np.mean(e_train_x[np.where(e_train_y == 1)[0]],axis=0)\n",
    "    target_norm = target / np.linalg.norm(target)\n",
    "    e_test_x_normed = e_test_x/ np.linalg.norm(e_test_x,axis=0)[np.newaxis,:]\n",
    "    predictions = np.sqrt(np.sum((e_test_x_normed - target_norm)**2,axis=1))\n",
    "    all_roc.append(roc_auc_score(e_test_y,predictions))\n",
    "\n",
    "np.mean(all_roc)"
   ]
  },
  {
   "cell_type": "code",
   "execution_count": 26,
   "metadata": {},
   "outputs": [
    {
     "name": "stderr",
     "output_type": "stream",
     "text": [
      "51it [00:21,  2.41it/s]\n"
     ]
    },
    {
     "data": {
      "text/plain": [
       "0.9775869803921569"
      ]
     },
     "execution_count": 26,
     "metadata": {},
     "output_type": "execute_result"
    }
   ],
   "source": [
    "all_roc_forest = []\n",
    "local_forest = RandomForestClassifier(max_depth=10,max_features=4,min_samples_leaf=3,n_estimators=200,random_state=RANDOM_STATE,n_jobs=-1)\n",
    "\n",
    "for ind,i in tqdm(enumerate(data_dict)):\n",
    "    e_train_x, e_train_y, e_test_x, e_test_y = prepare_data(data_dict,ind)\n",
    "    e_train_x = np.array(e_train_x)  \n",
    "    e_train_y = np.array(e_train_y) \n",
    "    e_test_x = np.array(e_test_x) \n",
    "    e_test_y = np.array(e_test_y) \n",
    "\n",
    "    \n",
    "    local_forest.fit(e_train_x,e_train_y)\n",
    "    predictions = local_forest.predict_proba(e_test_x)[:,1]\n",
    "    all_roc_forest.append(roc_auc_score(e_test_y,predictions))\n",
    "\n",
    "np.mean(all_roc_forest)"
   ]
  },
  {
   "cell_type": "code",
   "execution_count": null,
   "metadata": {},
   "outputs": [],
   "source": []
  },
  {
   "cell_type": "code",
   "execution_count": null,
   "metadata": {},
   "outputs": [],
   "source": []
  },
  {
   "cell_type": "code",
   "execution_count": null,
   "metadata": {},
   "outputs": [],
   "source": []
  },
  {
   "cell_type": "code",
   "execution_count": null,
   "metadata": {},
   "outputs": [],
   "source": []
  }
 ],
 "metadata": {
  "kernelspec": {
   "display_name": "Python 3",
   "language": "python",
   "name": "python3"
  },
  "language_info": {
   "codemirror_mode": {
    "name": "ipython",
    "version": 3
   },
   "file_extension": ".py",
   "mimetype": "text/x-python",
   "name": "python",
   "nbconvert_exporter": "python",
   "pygments_lexer": "ipython3",
   "version": "3.8.5"
  }
 },
 "nbformat": 4,
 "nbformat_minor": 4
}
