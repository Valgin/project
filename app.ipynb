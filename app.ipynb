{
 "cells": [
  {
   "cell_type": "code",
   "execution_count": 10,
   "metadata": {},
   "outputs": [
    {
     "name": "stdout",
     "output_type": "stream",
     "text": [
      "Requirement already satisfied: Flask in e:\\anaconda\\lib\\site-packages (1.1.2)\n",
      "Requirement already satisfied: itsdangerous>=0.24 in e:\\anaconda\\lib\\site-packages (from Flask) (1.1.0)\n",
      "Requirement already satisfied: Jinja2>=2.10.1 in e:\\anaconda\\lib\\site-packages (from Flask) (2.11.2)\n",
      "Requirement already satisfied: click>=5.1 in e:\\anaconda\\lib\\site-packages (from Flask) (7.1.2)\n",
      "Requirement already satisfied: Werkzeug>=0.15 in e:\\anaconda\\lib\\site-packages (from Flask) (1.0.1)\n",
      "Requirement already satisfied: MarkupSafe>=0.23 in e:\\anaconda\\lib\\site-packages (from Jinja2>=2.10.1->Flask) (1.1.1)\n",
      "Note: you may need to restart the kernel to use updated packages.\n"
     ]
    }
   ],
   "source": [
    "pip install Flask\n"
   ]
  },
  {
   "cell_type": "code",
   "execution_count": 11,
   "metadata": {},
   "outputs": [
    {
     "name": "stdout",
     "output_type": "stream",
     "text": [
      "Collecting Flask-RESTful\n",
      "  Downloading Flask_RESTful-0.3.9-py2.py3-none-any.whl (25 kB)\n",
      "Requirement already satisfied: six>=1.3.0 in e:\\anaconda\\lib\\site-packages (from Flask-RESTful) (1.15.0)\n",
      "Collecting aniso8601>=0.82\n",
      "  Downloading aniso8601-9.0.1-py2.py3-none-any.whl (52 kB)\n",
      "Requirement already satisfied: pytz in e:\\anaconda\\lib\\site-packages (from Flask-RESTful) (2020.1)\n",
      "Requirement already satisfied: Flask>=0.8 in e:\\anaconda\\lib\\site-packages (from Flask-RESTful) (1.1.2)\n",
      "Requirement already satisfied: click>=5.1 in e:\\anaconda\\lib\\site-packages (from Flask>=0.8->Flask-RESTful) (7.1.2)\n",
      "Requirement already satisfied: Jinja2>=2.10.1 in e:\\anaconda\\lib\\site-packages (from Flask>=0.8->Flask-RESTful) (2.11.2)\n",
      "Requirement already satisfied: Werkzeug>=0.15 in e:\\anaconda\\lib\\site-packages (from Flask>=0.8->Flask-RESTful) (1.0.1)\n",
      "Requirement already satisfied: itsdangerous>=0.24 in e:\\anaconda\\lib\\site-packages (from Flask>=0.8->Flask-RESTful) (1.1.0)\n",
      "Requirement already satisfied: MarkupSafe>=0.23 in e:\\anaconda\\lib\\site-packages (from Jinja2>=2.10.1->Flask>=0.8->Flask-RESTful) (1.1.1)\n",
      "Installing collected packages: aniso8601, Flask-RESTful\n",
      "Successfully installed Flask-RESTful-0.3.9 aniso8601-9.0.1\n",
      "Note: you may need to restart the kernel to use updated packages.\n"
     ]
    }
   ],
   "source": [
    "pip install Flask-RESTful"
   ]
  },
  {
   "cell_type": "code",
   "execution_count": 17,
   "metadata": {},
   "outputs": [],
   "source": [
    "from math import expm1\n",
    "import joblib\n",
    "import pandas as pd\n",
    "from flask import Flask, jsonify, request\n",
    "import os\n",
    "import seaborn as sns\n",
    "import time\n",
    "\n"
   ]
  },
  {
   "cell_type": "code",
   "execution_count": 18,
   "metadata": {},
   "outputs": [],
   "source": [
    "sns.set_style(\"darkgrid\")"
   ]
  },
  {
   "cell_type": "code",
   "execution_count": null,
   "metadata": {},
   "outputs": [],
   "source": []
  }
 ],
 "metadata": {
  "kernelspec": {
   "display_name": "Python 3",
   "language": "python",
   "name": "python3"
  },
  "language_info": {
   "codemirror_mode": {
    "name": "ipython",
    "version": 3
   },
   "file_extension": ".py",
   "mimetype": "text/x-python",
   "name": "python",
   "nbconvert_exporter": "python",
   "pygments_lexer": "ipython3",
   "version": "3.8.5"
  }
 },
 "nbformat": 4,
 "nbformat_minor": 4
}
